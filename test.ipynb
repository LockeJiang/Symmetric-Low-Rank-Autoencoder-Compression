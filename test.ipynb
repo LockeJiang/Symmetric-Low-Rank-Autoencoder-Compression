{
 "cells": [
  {
   "cell_type": "code",
   "execution_count": 5,
   "metadata": {},
   "outputs": [
    {
     "output_type": "stream",
     "name": "stdout",
     "text": "true_model_params:  483328 joint compression:  1.6168114565178848 ind compression:  2.3278107420821454\n"
    }
   ],
   "source": [
    "import numpy as np\n",
    "from util import *\n",
    "\n",
    "params = {}\n",
    "\n",
    "params['rj1'] = 183; params['rj2'] = 92; params['rj3'] = 56;\n",
    "params['ri_enc_1'] = 24; params['ri_enc_2'] = 180; params['ri_enc_3'] = 8; \n",
    "params['ri_dec_1'] = 90; params['ri_dec_2'] = 28; params['ri_dec_3'] = 38\n",
    "\n",
    "low_rank_comp(params)"
   ]
  },
  {
   "cell_type": "code",
   "execution_count": 39,
   "metadata": {},
   "outputs": [
    {
     "output_type": "stream",
     "name": "stdout",
     "text": "compute ops joint:  1.6873e+07\nmemory ops joint:  1.9856e+05\ncompute org:  1.6320e+07\nmemory org:  2.0019e+05\ncompute delta:  5.5315e+05\nmemory delta:  1.9897e+01\n"
    }
   ],
   "source": [
    "m = 64; n = 128; r = 34; B = 1000\n",
    "\n",
    "compute_ops = (m*(2*r-1) + m*n*(2*r-1) + (2*n-1)*m*B)\n",
    "memory_ops = (m*r + r + n*r + n*B + m*B)\n",
    "print(\"compute ops joint: \", \"{:.4e}\".format(compute_ops))\n",
    "print(\"memory ops joint: \", \"{:.4e}\".format(memory_ops))\n",
    "\n",
    "compute_org = (2*n-1)*m*B\n",
    "memory_org = m*n+ n*B + m*B\n",
    "print(\"compute org: \", \"{:.4e}\".format(compute_org))\n",
    "print(\"memory org: \", \"{:.4e}\".format(memory_org))\n",
    "\n",
    "compute_delta = 100*(m*(2*r-1) + m*n*(2*r-1))/((2*n-1)*m*B)\n",
    "memory_delta = 100*(m*n - (m + n + 1)*r)/(m*n)\n",
    "\n",
    "print(\"compute delta: \", \"{:.4e}\".format(compute_delta))\n",
    "print(\"memory delta: \", \"{:.4e}\".format(memory_delta))"
   ]
  },
  {
   "cell_type": "code",
   "execution_count": 27,
   "metadata": {},
   "outputs": [
    {
     "output_type": "stream",
     "name": "stdout",
     "text": "compute time:  872.1066666666667\nmemory time:  227.84682666666666\n"
    }
   ],
   "source": [
    "compute_org = (2*n-1)*m*B)\n",
    "memory_org = m*n+ n*B + m*B)\n",
    "print(\"compute org: \", compute_org)\n",
    "print(\"memory org: \", memory_org)"
   ]
  },
  {
   "cell_type": "code",
   "execution_count": 11,
   "metadata": {},
   "outputs": [
    {
     "output_type": "execute_result",
     "data": {
      "text/plain": "452798720"
     },
     "metadata": {},
     "execution_count": 11
    }
   ],
   "source": [
    "(m*(2*r-1) + m*n*(2*r-1) + (2*n-1)*m*B)"
   ]
  },
  {
   "cell_type": "code",
   "execution_count": null,
   "metadata": {},
   "outputs": [],
   "source": [
    "144"
   ]
  }
 ],
 "metadata": {
  "language_info": {
   "codemirror_mode": {
    "name": "ipython",
    "version": 3
   },
   "file_extension": ".py",
   "mimetype": "text/x-python",
   "name": "python",
   "nbconvert_exporter": "python",
   "pygments_lexer": "ipython3",
   "version": "3.7.4-final"
  },
  "orig_nbformat": 2,
  "kernelspec": {
   "name": "pytorch1.3",
   "display_name": "Pytorch 1.3"
  }
 },
 "nbformat": 4,
 "nbformat_minor": 2
}